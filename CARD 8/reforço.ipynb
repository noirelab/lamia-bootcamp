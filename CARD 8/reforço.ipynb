{
 "cells": [
  {
   "cell_type": "code",
   "execution_count": 2,
   "metadata": {},
   "outputs": [],
   "source": [
    "from bs4 import BeautifulSoup\n",
    "import requests"
   ]
  },
  {
   "cell_type": "code",
   "execution_count": 3,
   "metadata": {},
   "outputs": [
    {
     "name": "stdout",
     "output_type": "stream",
     "text": [
      "0. Dell Inspiron... $1144.2 Description: Dell Inspiron 15 (7567) Black, 15.6\" FHD, Core i7-7700HQ, 8GB, 1TB, GeForce GTX 1050 Ti 4GB, Linux + Windows 10 Home\n",
      "\n",
      "1. Asus VivoBook... $729 Description: Asus VivoBook S14 (S406UA-BV041T) Starry Grey, 14\", Core i5-8250U, 8GB, 256GB SSD, Windows 10 Home, Eng kbd\n",
      "\n",
      "2. Pavilion $609.99 Description: 15.6\", Core i5-4200U, 6GB, 750GB, Windows 8.1\n",
      "\n"
     ]
    }
   ],
   "source": [
    "html_text = requests.get('https://webscraper.io/test-sites/e-commerce/allinone').text\n",
    "soup = BeautifulSoup(html_text, 'lxml')\n",
    "laptops = soup.find_all('div', class_='col-md-4 col-xl-4 col-lg-4')\n",
    "\n",
    "for index, laptop in enumerate(laptops):\n",
    "    price = laptop.find('h4', class_='price float-end card-title pull-right').text\n",
    "    model = laptop.find('a', class_='title').text\n",
    "    desc = laptop.find('p', class_='description card-text').text\n",
    "    print(f'{index}. {model} {price} Description: {desc}')\n",
    "    print('')"
   ]
  }
 ],
 "metadata": {
  "kernelspec": {
   "display_name": "Python 3",
   "language": "python",
   "name": "python3"
  },
  "language_info": {
   "codemirror_mode": {
    "name": "ipython",
    "version": 3
   },
   "file_extension": ".py",
   "mimetype": "text/x-python",
   "name": "python",
   "nbconvert_exporter": "python",
   "pygments_lexer": "ipython3",
   "version": "3.12.3"
  }
 },
 "nbformat": 4,
 "nbformat_minor": 2
}
