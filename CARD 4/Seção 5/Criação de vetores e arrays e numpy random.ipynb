{
 "cells": [
  {
   "cell_type": "code",
   "execution_count": 2,
   "metadata": {},
   "outputs": [],
   "source": [
    "import numpy as np # biblioteca para álgebra linear"
   ]
  },
  {
   "cell_type": "code",
   "execution_count": 3,
   "metadata": {},
   "outputs": [],
   "source": [
    "minha_lista = [1,2,3]"
   ]
  },
  {
   "cell_type": "code",
   "execution_count": 4,
   "metadata": {},
   "outputs": [
    {
     "data": {
      "text/plain": [
       "array([1, 2, 3])"
      ]
     },
     "execution_count": 4,
     "metadata": {},
     "output_type": "execute_result"
    }
   ],
   "source": [
    "np.array(minha_lista) # transforma a lista em array numpy"
   ]
  },
  {
   "cell_type": "code",
   "execution_count": 5,
   "metadata": {},
   "outputs": [],
   "source": [
    "minha_matriz = [[1,2,3],[4,5,6],[7,8,9]]"
   ]
  },
  {
   "cell_type": "code",
   "execution_count": 6,
   "metadata": {},
   "outputs": [
    {
     "data": {
      "text/plain": [
       "array([[1, 2, 3],\n",
       "       [4, 5, 6],\n",
       "       [7, 8, 9]])"
      ]
     },
     "execution_count": 6,
     "metadata": {},
     "output_type": "execute_result"
    }
   ],
   "source": [
    "np.array(minha_matriz) # transforma a matriz em array numpy"
   ]
  },
  {
   "cell_type": "code",
   "execution_count": 7,
   "metadata": {},
   "outputs": [
    {
     "data": {
      "text/plain": [
       "array([0, 2, 4, 6, 8])"
      ]
     },
     "execution_count": 7,
     "metadata": {},
     "output_type": "execute_result"
    }
   ],
   "source": [
    "np.arange(0, 10) # cria uma array numpy de 0 a 9\n",
    "np.arange(0, 10, 2) # 2 é o step, de quanto em quanto sobe"
   ]
  },
  {
   "cell_type": "code",
   "execution_count": 8,
   "metadata": {},
   "outputs": [
    {
     "name": "stdout",
     "output_type": "stream",
     "text": [
      "[0. 0. 0.]\n"
     ]
    }
   ],
   "source": [
    "arr = np.zeros(3)\n",
    "print(arr)"
   ]
  },
  {
   "cell_type": "code",
   "execution_count": 9,
   "metadata": {},
   "outputs": [
    {
     "name": "stdout",
     "output_type": "stream",
     "text": [
      "[[0. 0. 0. 0. 0.]\n",
      " [0. 0. 0. 0. 0.]\n",
      " [0. 0. 0. 0. 0.]\n",
      " [0. 0. 0. 0. 0.]\n",
      " [0. 0. 0. 0. 0.]]\n"
     ]
    }
   ],
   "source": [
    "arr = np.zeros((5,5)) # cria uma matriz 5x5\n",
    "print(arr)"
   ]
  },
  {
   "cell_type": "code",
   "execution_count": 10,
   "metadata": {},
   "outputs": [
    {
     "name": "stdout",
     "output_type": "stream",
     "text": [
      "[[1. 1. 1.]\n",
      " [1. 1. 1.]\n",
      " [1. 1. 1.]]\n"
     ]
    }
   ],
   "source": [
    "ones = np.ones((3,3)) # cria de uns\n",
    "print(ones)"
   ]
  },
  {
   "cell_type": "code",
   "execution_count": 11,
   "metadata": {},
   "outputs": [
    {
     "name": "stdout",
     "output_type": "stream",
     "text": [
      "[[1. 0. 0. 0.]\n",
      " [0. 1. 0. 0.]\n",
      " [0. 0. 1. 0.]\n",
      " [0. 0. 0. 1.]]\n"
     ]
    }
   ],
   "source": [
    "# matriz identidade\n",
    "ind = np.eye(4)\n",
    "print(ind)"
   ]
  },
  {
   "cell_type": "code",
   "execution_count": 12,
   "metadata": {},
   "outputs": [
    {
     "name": "stdout",
     "output_type": "stream",
     "text": [
      "[ 0.  5. 10.]\n"
     ]
    }
   ],
   "source": [
    "linspace = np.linspace(0, 10, 3) # espaçamento, quantos números de x até y você quer ver dentro\n",
    "print(linspace)"
   ]
  },
  {
   "cell_type": "code",
   "execution_count": 13,
   "metadata": {},
   "outputs": [
    {
     "name": "stdout",
     "output_type": "stream",
     "text": [
      "[0.32943264 0.57906028 0.69567275 0.59245731 0.46035314]\n",
      "[32.94326437 57.90602787 69.56727489 59.24573107 46.03531376]\n"
     ]
    }
   ],
   "source": [
    "random = np.random.rand(5)\n",
    "print(random)\n",
    "print(random * 100)"
   ]
  },
  {
   "cell_type": "code",
   "execution_count": 14,
   "metadata": {},
   "outputs": [
    {
     "name": "stdout",
     "output_type": "stream",
     "text": [
      "[[[0.74606672 0.99905596 0.92322943]\n",
      "  [0.44310151 0.82623612 0.56071053]\n",
      "  [0.68142254 0.55252738 0.67903015]\n",
      "  [0.57390059 0.79123272 0.34106894]]\n",
      "\n",
      " [[0.15402529 0.21486366 0.15060537]\n",
      "  [0.62908053 0.73086566 0.3956513 ]\n",
      "  [0.64564688 0.97449294 0.10380778]\n",
      "  [0.12429542 0.23147631 0.71519236]]\n",
      "\n",
      " [[0.53970797 0.33521348 0.43712096]\n",
      "  [0.53662844 0.59937542 0.4987956 ]\n",
      "  [0.34010315 0.58677894 0.28131761]\n",
      "  [0.66430477 0.44118167 0.97873996]]\n",
      "\n",
      " [[0.86761888 0.04032485 0.42141609]\n",
      "  [0.23815699 0.75520331 0.46063715]\n",
      "  [0.25476225 0.68433253 0.43143899]\n",
      "  [0.00735295 0.41099038 0.2334044 ]]\n",
      "\n",
      " [[0.08390583 0.20562698 0.36166049]\n",
      "  [0.21487052 0.87992311 0.0139329 ]\n",
      "  [0.33526357 0.12211473 0.04379494]\n",
      "  [0.92587549 0.13904319 0.04540252]]]\n"
     ]
    }
   ],
   "source": [
    "multi_dimensional_random = np.random.rand(5, 4, 3)\n",
    "print(multi_dimensional_random)"
   ]
  },
  {
   "cell_type": "code",
   "execution_count": 15,
   "metadata": {},
   "outputs": [
    {
     "name": "stdout",
     "output_type": "stream",
     "text": [
      "[ 0.40999501 -0.46451943 -0.67920092  1.51192339]\n"
     ]
    }
   ],
   "source": [
    "gaussiana = np.random.randn(4)\n",
    "print(gaussiana)"
   ]
  },
  {
   "cell_type": "code",
   "execution_count": 16,
   "metadata": {},
   "outputs": [
    {
     "name": "stdout",
     "output_type": "stream",
     "text": [
      "[60 22  0  5 94 73 81 31 96 40]\n"
     ]
    }
   ],
   "source": [
    "randit = np.random.randint(0, 100, 10) # randit(do 0, até o 100, 10 números)\n",
    "print(randit)"
   ]
  },
  {
   "cell_type": "code",
   "execution_count": 18,
   "metadata": {},
   "outputs": [
    {
     "name": "stdout",
     "output_type": "stream",
     "text": [
      "[10.09387164 54.17796285 82.18686738 43.4175674  23.40905943]\n"
     ]
    }
   ],
   "source": [
    "multiplicado = np.random.rand(5) * 100\n",
    "print(multiplicado)"
   ]
  },
  {
   "cell_type": "code",
   "execution_count": 21,
   "metadata": {},
   "outputs": [
    {
     "name": "stdout",
     "output_type": "stream",
     "text": [
      "[60. 60. 64.  2. 74.]\n"
     ]
    }
   ],
   "source": [
    "round = np.round(np.random.rand(5)*100, 0) # arredonda para 0 casas decimais\n",
    "print(round)"
   ]
  },
  {
   "cell_type": "code",
   "execution_count": 22,
   "metadata": {},
   "outputs": [
    {
     "name": "stdout",
     "output_type": "stream",
     "text": [
      "[0.94747713 0.80366929 0.14506437 0.57419168 0.45688122 0.10025333\n",
      " 0.13710524 0.45110995 0.97897594 0.96574162 0.60628775 0.84502071\n",
      " 0.15704946 0.72677492 0.78597704 0.69184142 0.87462513 0.03466848\n",
      " 0.52031898 0.43667823 0.27314112 0.88312941 0.53344442 0.97754906\n",
      " 0.26733991]\n"
     ]
    }
   ],
   "source": [
    "arr = np.random.rand(25) # vetor de tamnanho 25\n",
    "print(arr)"
   ]
  },
  {
   "cell_type": "code",
   "execution_count": 29,
   "metadata": {},
   "outputs": [
    {
     "name": "stdout",
     "output_type": "stream",
     "text": [
      "[[0.94747713 0.80366929 0.14506437 0.57419168 0.45688122]\n",
      " [0.10025333 0.13710524 0.45110995 0.97897594 0.96574162]\n",
      " [0.60628775 0.84502071 0.15704946 0.72677492 0.78597704]\n",
      " [0.69184142 0.87462513 0.03466848 0.52031898 0.43667823]\n",
      " [0.27314112 0.88312941 0.53344442 0.97754906 0.26733991]]\n"
     ]
    }
   ],
   "source": [
    "# reshape\n",
    "# arr.reshape(5,5) # deixou de ser vetor de 25 pra ser matriz 5x5, mas o array segue o mesmo, só a visualização que muda\n",
    "arr = arr.reshape(5,5)\n",
    "print(arr)\n"
   ]
  },
  {
   "cell_type": "code",
   "execution_count": 26,
   "metadata": {},
   "outputs": [
    {
     "data": {
      "text/plain": [
       "(5, 5)"
      ]
     },
     "execution_count": 26,
     "metadata": {},
     "output_type": "execute_result"
    }
   ],
   "source": [
    "#shape\n",
    "arr.shape # parâmetro, não método"
   ]
  },
  {
   "cell_type": "code",
   "execution_count": 31,
   "metadata": {},
   "outputs": [
    {
     "data": {
      "text/plain": [
       "0.9789759383846509"
      ]
     },
     "execution_count": 31,
     "metadata": {},
     "output_type": "execute_result"
    }
   ],
   "source": [
    "arr.max()"
   ]
  },
  {
   "cell_type": "code",
   "execution_count": 32,
   "metadata": {},
   "outputs": [
    {
     "data": {
      "text/plain": [
       "0.034668483725375676"
      ]
     },
     "execution_count": 32,
     "metadata": {},
     "output_type": "execute_result"
    }
   ],
   "source": [
    "arr.min()"
   ]
  },
  {
   "cell_type": "code",
   "execution_count": 33,
   "metadata": {},
   "outputs": [
    {
     "data": {
      "text/plain": [
       "8"
      ]
     },
     "execution_count": 33,
     "metadata": {},
     "output_type": "execute_result"
    }
   ],
   "source": [
    "arr.argmax() # posição do maior valor"
   ]
  },
  {
   "cell_type": "code",
   "execution_count": null,
   "metadata": {},
   "outputs": [],
   "source": [
    "arr.argmin() # posição do menor valor"
   ]
  }
 ],
 "metadata": {
  "kernelspec": {
   "display_name": "Python 3",
   "language": "python",
   "name": "python3"
  },
  "language_info": {
   "codemirror_mode": {
    "name": "ipython",
    "version": 3
   },
   "file_extension": ".py",
   "mimetype": "text/x-python",
   "name": "python",
   "nbconvert_exporter": "python",
   "pygments_lexer": "ipython3",
   "version": "3.12.3"
  }
 },
 "nbformat": 4,
 "nbformat_minor": 2
}
