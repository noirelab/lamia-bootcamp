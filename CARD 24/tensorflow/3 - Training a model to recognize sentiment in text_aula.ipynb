{
 "cells": [
  {
   "cell_type": "code",
   "execution_count": 96,
   "metadata": {},
   "outputs": [],
   "source": [
    "import json\n",
    "from tensorflow.keras.preprocessing.text import Tokenizer\n",
    "from tensorflow.keras.preprocessing.sequence import pad_sequences\n",
    "import tensorflow as tf"
   ]
  },
  {
   "cell_type": "code",
   "execution_count": 97,
   "metadata": {},
   "outputs": [],
   "source": [
    "with open('Sarcasm_Headlines_Dataset.json', 'r') as f:\n",
    "    datastore = json.load(f)"
   ]
  },
  {
   "cell_type": "code",
   "execution_count": 98,
   "metadata": {},
   "outputs": [],
   "source": [
    "sentences = []\n",
    "labels = []\n",
    "urls = []"
   ]
  },
  {
   "cell_type": "code",
   "execution_count": 99,
   "metadata": {},
   "outputs": [],
   "source": [
    "# adiciona os dados do json nas listas\n",
    "for item in datastore:\n",
    "    sentences.append(item['headline'])\n",
    "    labels.append(item['is_sarcastic'])\n",
    "    urls.append(item['article_link'])"
   ]
  },
  {
   "cell_type": "code",
   "execution_count": 100,
   "metadata": {},
   "outputs": [],
   "source": [
    "tokenizer = Tokenizer(oov_token=\"<OOV>\")\n",
    "tokenizer.fit_on_texts(sentences)\n",
    "word_index = tokenizer.word_index"
   ]
  },
  {
   "cell_type": "code",
   "execution_count": 101,
   "metadata": {},
   "outputs": [],
   "source": [
    "sequences = tokenizer.texts_to_sequences(sentences)\n",
    "padded = pad_sequences(sequences, padding='post')"
   ]
  },
  {
   "cell_type": "code",
   "execution_count": 102,
   "metadata": {},
   "outputs": [
    {
     "name": "stdout",
     "output_type": "stream",
     "text": [
      "[  308 15115   679  3337  2298    48   382  2576 15116     6  2577  8434\n",
      "     0     0     0     0     0     0     0     0     0     0     0     0\n",
      "     0     0     0     0     0     0     0     0     0     0     0     0\n",
      "     0     0     0     0]\n",
      "(26709, 40)\n"
     ]
    }
   ],
   "source": [
    "print(padded[0])\n",
    "print(padded.shape)"
   ]
  },
  {
   "cell_type": "code",
   "execution_count": 103,
   "metadata": {},
   "outputs": [],
   "source": [
    "# variaveis\n",
    "vocab_size = 10000\n",
    "embedding_dim = 16\n",
    "max_length = 100\n",
    "trunc_type='post'\n",
    "padding_type='post'\n",
    "oov_tok = \"<OOV>\"\n",
    "training_size = 20000"
   ]
  },
  {
   "cell_type": "code",
   "execution_count": 104,
   "metadata": {},
   "outputs": [],
   "source": [
    "# separa os dados de treino e teste\n",
    "\n",
    "training_sentences = sentences[:training_size]\n",
    "testing_sentences = sentences[training_size:]\n",
    "\n",
    "training_labels = labels[0:training_size]\n",
    "testing_labels = labels[training_size:]"
   ]
  },
  {
   "cell_type": "code",
   "execution_count": 105,
   "metadata": {},
   "outputs": [],
   "source": [
    "tokenizer = Tokenizer(num_words=vocab_size, oov_token=\"<OOV>\")\n",
    "tokenizer.fit_on_texts(sentences)"
   ]
  },
  {
   "cell_type": "code",
   "execution_count": 106,
   "metadata": {},
   "outputs": [],
   "source": [
    "word_index = tokenizer.word_index"
   ]
  },
  {
   "cell_type": "code",
   "execution_count": 107,
   "metadata": {},
   "outputs": [],
   "source": [
    "# transforma as frases em sequencias\n",
    "training_sequences = tokenizer.texts_to_sequences(training_sentences)\n",
    "training_padded = pad_sequences(training_sequences,\n",
    "                                maxlen=max_length,\n",
    "                                padding=padding_type,\n",
    "                                truncating=trunc_type)"
   ]
  },
  {
   "cell_type": "code",
   "execution_count": 108,
   "metadata": {},
   "outputs": [],
   "source": [
    "testing_sequences = tokenizer.texts_to_sequences(testing_sentences)\n",
    "testing_padded = pad_sequences(testing_sequences,\n",
    "                               maxlen=max_length,\n",
    "                               padding=padding_type,\n",
    "                               truncating=trunc_type)"
   ]
  },
  {
   "cell_type": "code",
   "execution_count": 109,
   "metadata": {},
   "outputs": [],
   "source": [
    "import numpy as np\n",
    "\n",
    "# transforma as listas em arrays\n",
    "training_padded = np.array(training_padded)\n",
    "training_labels = np.array(training_labels)\n",
    "testing_padded = np.array(testing_padded)\n",
    "testing_labels = np.array(testing_labels)"
   ]
  },
  {
   "cell_type": "code",
   "execution_count": 110,
   "metadata": {},
   "outputs": [],
   "source": [
    "# definição do modelo\n",
    "model = tf.keras.Sequential([\n",
    "    tf.keras.layers.Embedding(vocab_size, embedding_dim, input_length=max_length),\n",
    "    tf.keras.layers.GlobalAveragePooling1D(),\n",
    "    tf.keras.layers.Dense(24, activation='relu'),\n",
    "    tf.keras.layers.Dense(1, activation='sigmoid')\n",
    "])\n",
    "model.compile(loss='binary_crossentropy', optimizer='adam', metrics=['accuracy'])"
   ]
  },
  {
   "cell_type": "code",
   "execution_count": 111,
   "metadata": {},
   "outputs": [
    {
     "name": "stdout",
     "output_type": "stream",
     "text": [
      "Model: \"sequential_6\"\n",
      "_________________________________________________________________\n",
      " Layer (type)                Output Shape              Param #   \n",
      "=================================================================\n",
      " embedding_6 (Embedding)     (None, 100, 16)           160000    \n",
      "                                                                 \n",
      " global_average_pooling1d_6   (None, 16)               0         \n",
      " (GlobalAveragePooling1D)                                        \n",
      "                                                                 \n",
      " dense_12 (Dense)            (None, 24)                408       \n",
      "                                                                 \n",
      " dense_13 (Dense)            (None, 1)                 25        \n",
      "                                                                 \n",
      "=================================================================\n",
      "Total params: 160,433\n",
      "Trainable params: 160,433\n",
      "Non-trainable params: 0\n",
      "_________________________________________________________________\n"
     ]
    }
   ],
   "source": [
    "model.summary()"
   ]
  },
  {
   "cell_type": "code",
   "execution_count": 112,
   "metadata": {},
   "outputs": [
    {
     "name": "stdout",
     "output_type": "stream",
     "text": [
      "20000 20000\n"
     ]
    }
   ],
   "source": [
    "print(len(training_padded), len(training_labels))\n"
   ]
  },
  {
   "cell_type": "code",
   "execution_count": 113,
   "metadata": {},
   "outputs": [
    {
     "name": "stdout",
     "output_type": "stream",
     "text": [
      "Epoch 1/30\n",
      "625/625 - 2s - loss: 0.6692 - accuracy: 0.5856 - val_loss: 0.5836 - val_accuracy: 0.7751 - 2s/epoch - 3ms/step\n",
      "Epoch 2/30\n",
      "625/625 - 1s - loss: 0.4240 - accuracy: 0.8316 - val_loss: 0.3763 - val_accuracy: 0.8430 - 1s/epoch - 2ms/step\n",
      "Epoch 3/30\n",
      "625/625 - 1s - loss: 0.3057 - accuracy: 0.8770 - val_loss: 0.3472 - val_accuracy: 0.8560 - 1s/epoch - 2ms/step\n",
      "Epoch 4/30\n",
      "625/625 - 1s - loss: 0.2558 - accuracy: 0.8991 - val_loss: 0.3683 - val_accuracy: 0.8366 - 1s/epoch - 2ms/step\n",
      "Epoch 5/30\n",
      "625/625 - 1s - loss: 0.2190 - accuracy: 0.9136 - val_loss: 0.3434 - val_accuracy: 0.8560 - 1s/epoch - 2ms/step\n",
      "Epoch 6/30\n",
      "625/625 - 1s - loss: 0.1927 - accuracy: 0.9263 - val_loss: 0.3619 - val_accuracy: 0.8493 - 1s/epoch - 2ms/step\n",
      "Epoch 7/30\n",
      "625/625 - 1s - loss: 0.1718 - accuracy: 0.9349 - val_loss: 0.3638 - val_accuracy: 0.8569 - 1s/epoch - 2ms/step\n",
      "Epoch 8/30\n",
      "625/625 - 1s - loss: 0.1515 - accuracy: 0.9445 - val_loss: 0.3985 - val_accuracy: 0.8463 - 1s/epoch - 2ms/step\n",
      "Epoch 9/30\n",
      "625/625 - 1s - loss: 0.1384 - accuracy: 0.9498 - val_loss: 0.4061 - val_accuracy: 0.8520 - 1s/epoch - 2ms/step\n",
      "Epoch 10/30\n",
      "625/625 - 1s - loss: 0.1238 - accuracy: 0.9556 - val_loss: 0.4290 - val_accuracy: 0.8495 - 1s/epoch - 2ms/step\n",
      "Epoch 11/30\n",
      "625/625 - 1s - loss: 0.1132 - accuracy: 0.9599 - val_loss: 0.4489 - val_accuracy: 0.8487 - 1s/epoch - 2ms/step\n",
      "Epoch 12/30\n",
      "625/625 - 2s - loss: 0.1018 - accuracy: 0.9648 - val_loss: 0.4918 - val_accuracy: 0.8420 - 2s/epoch - 3ms/step\n",
      "Epoch 13/30\n",
      "625/625 - 1s - loss: 0.0932 - accuracy: 0.9681 - val_loss: 0.5160 - val_accuracy: 0.8377 - 1s/epoch - 2ms/step\n",
      "Epoch 14/30\n",
      "625/625 - 1s - loss: 0.0848 - accuracy: 0.9728 - val_loss: 0.5458 - val_accuracy: 0.8386 - 1s/epoch - 2ms/step\n",
      "Epoch 15/30\n",
      "625/625 - 1s - loss: 0.0789 - accuracy: 0.9744 - val_loss: 0.5648 - val_accuracy: 0.8396 - 1s/epoch - 2ms/step\n",
      "Epoch 16/30\n",
      "625/625 - 2s - loss: 0.0708 - accuracy: 0.9767 - val_loss: 0.5983 - val_accuracy: 0.8347 - 2s/epoch - 3ms/step\n",
      "Epoch 17/30\n",
      "625/625 - 1s - loss: 0.0646 - accuracy: 0.9790 - val_loss: 0.6461 - val_accuracy: 0.8325 - 1s/epoch - 2ms/step\n",
      "Epoch 18/30\n",
      "625/625 - 2s - loss: 0.0611 - accuracy: 0.9798 - val_loss: 0.6635 - val_accuracy: 0.8338 - 2s/epoch - 2ms/step\n",
      "Epoch 19/30\n",
      "625/625 - 1s - loss: 0.0547 - accuracy: 0.9826 - val_loss: 0.7014 - val_accuracy: 0.8301 - 1s/epoch - 2ms/step\n",
      "Epoch 20/30\n",
      "625/625 - 1s - loss: 0.0496 - accuracy: 0.9847 - val_loss: 0.7451 - val_accuracy: 0.8262 - 1s/epoch - 2ms/step\n",
      "Epoch 21/30\n",
      "625/625 - 2s - loss: 0.0481 - accuracy: 0.9846 - val_loss: 0.7807 - val_accuracy: 0.8241 - 2s/epoch - 3ms/step\n",
      "Epoch 22/30\n",
      "625/625 - 1s - loss: 0.0431 - accuracy: 0.9860 - val_loss: 0.8264 - val_accuracy: 0.8214 - 1s/epoch - 2ms/step\n",
      "Epoch 23/30\n",
      "625/625 - 2s - loss: 0.0396 - accuracy: 0.9873 - val_loss: 0.8700 - val_accuracy: 0.8213 - 2s/epoch - 2ms/step\n",
      "Epoch 24/30\n",
      "625/625 - 1s - loss: 0.0371 - accuracy: 0.9884 - val_loss: 0.8931 - val_accuracy: 0.8219 - 1s/epoch - 2ms/step\n",
      "Epoch 25/30\n",
      "625/625 - 1s - loss: 0.0321 - accuracy: 0.9904 - val_loss: 0.9441 - val_accuracy: 0.8199 - 1s/epoch - 2ms/step\n",
      "Epoch 26/30\n",
      "625/625 - 1s - loss: 0.0295 - accuracy: 0.9907 - val_loss: 1.0336 - val_accuracy: 0.8097 - 1s/epoch - 2ms/step\n",
      "Epoch 27/30\n",
      "625/625 - 1s - loss: 0.0302 - accuracy: 0.9906 - val_loss: 1.0528 - val_accuracy: 0.8119 - 1s/epoch - 2ms/step\n",
      "Epoch 28/30\n",
      "625/625 - 1s - loss: 0.0250 - accuracy: 0.9926 - val_loss: 1.0885 - val_accuracy: 0.8123 - 1s/epoch - 2ms/step\n",
      "Epoch 29/30\n",
      "625/625 - 1s - loss: 0.0231 - accuracy: 0.9931 - val_loss: 1.1347 - val_accuracy: 0.8158 - 1s/epoch - 2ms/step\n",
      "Epoch 30/30\n",
      "625/625 - 1s - loss: 0.0200 - accuracy: 0.9941 - val_loss: 1.1935 - val_accuracy: 0.8135 - 1s/epoch - 2ms/step\n"
     ]
    }
   ],
   "source": [
    "num_epochs = 30\n",
    "\n",
    "history = model.fit(training_padded,\n",
    "                    training_labels,\n",
    "                    epochs=num_epochs,\n",
    "                    validation_data=(testing_padded, testing_labels), verbose=2)"
   ]
  },
  {
   "cell_type": "code",
   "execution_count": null,
   "metadata": {},
   "outputs": [
    {
     "name": "stdout",
     "output_type": "stream",
     "text": [
      "1/1 [==============================] - 0s 59ms/step\n",
      "[[8.9687830e-01]\n",
      " [7.7226263e-04]]\n"
     ]
    }
   ],
   "source": [
    "sentence = [\n",
    "    \"granny starting to fear spiders in the garden might be real\",\n",
    "    \"the weather today is bright and sunny\"\n",
    "]\n",
    "\n",
    "sequences = tokenizer.texts_to_sequences(sentence)\n",
    "\n",
    "padded = pad_sequences(sequences,\n",
    "                       maxlen=max_length,\n",
    "                       padding=padding_type,\n",
    "                       truncating=trunc_type)\n",
    "\n",
    "# preve a chance de sarcasmo de cada frase\n",
    "print(model.predict(padded))"
   ]
  },
  {
   "cell_type": "code",
   "execution_count": null,
   "metadata": {},
   "outputs": [],
   "source": []
  }
 ],
 "metadata": {
  "kernelspec": {
   "display_name": "Python 3",
   "language": "python",
   "name": "python3"
  },
  "language_info": {
   "codemirror_mode": {
    "name": "ipython",
    "version": 3
   },
   "file_extension": ".py",
   "mimetype": "text/x-python",
   "name": "python",
   "nbconvert_exporter": "python",
   "pygments_lexer": "ipython3",
   "version": "3.11.9"
  }
 },
 "nbformat": 4,
 "nbformat_minor": 2
}
