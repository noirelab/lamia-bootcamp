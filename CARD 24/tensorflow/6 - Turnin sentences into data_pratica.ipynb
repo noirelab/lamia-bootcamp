{
 "cells": [
  {
   "cell_type": "code",
   "execution_count": 2,
   "metadata": {},
   "outputs": [],
   "source": [
    "import tensorflow as tf\n",
    "from tensorflow import keras\n",
    "from tensorflow.keras.preprocessing.text import Tokenizer\n",
    "from tensorflow.keras.preprocessing.sequence import pad_sequences"
   ]
  },
  {
   "cell_type": "code",
   "execution_count": 3,
   "metadata": {},
   "outputs": [],
   "source": [
    "sentences = [\n",
    "    'eu gosto de andar de bicicleta',\n",
    "    'eu gosto de andar de carro',\n",
    "    'eu gosto de colocar a bicicleta no carro'\n",
    "]"
   ]
  },
  {
   "cell_type": "code",
   "execution_count": 4,
   "metadata": {},
   "outputs": [],
   "source": [
    "tokenizer = Tokenizer(num_words=100, oov_token='<OOV>') # out of vocabulary\n",
    "tokenizer.fit_on_texts(sentences)\n",
    "word_index = tokenizer.word_index"
   ]
  },
  {
   "cell_type": "code",
   "execution_count": 5,
   "metadata": {},
   "outputs": [],
   "source": [
    "sequences = tokenizer.texts_to_sequences(sentences)"
   ]
  },
  {
   "cell_type": "code",
   "execution_count": 11,
   "metadata": {},
   "outputs": [],
   "source": [
    "padded = pad_sequences(sequences,\n",
    "                       padding='pre',\n",
    "                       truncating = 'post') # ajusta o padding de cad uma"
   ]
  },
  {
   "cell_type": "code",
   "execution_count": 12,
   "metadata": {},
   "outputs": [
    {
     "name": "stdout",
     "output_type": "stream",
     "text": [
      "{'<OOV>': 1, 'de': 2, 'eu': 3, 'gosto': 4, 'andar': 5, 'bicicleta': 6, 'carro': 7, 'colocar': 8, 'a': 9, 'no': 10}\n",
      "\n",
      "[[3, 4, 2, 5, 2, 6], [3, 4, 2, 5, 2, 7], [3, 4, 2, 8, 9, 6, 10, 7]]\n",
      "\n",
      "[[ 0  0  3  4  2  5  2  6]\n",
      " [ 0  0  3  4  2  5  2  7]\n",
      " [ 3  4  2  8  9  6 10  7]]\n",
      "\n"
     ]
    }
   ],
   "source": [
    "print(f'{word_index}\\n')\n",
    "print(f'{sequences}\\n')\n",
    "print(f'{padded}\\n')"
   ]
  },
  {
   "cell_type": "code",
   "execution_count": 13,
   "metadata": {},
   "outputs": [],
   "source": [
    "test_data = [\n",
    "    'eu gosto muito de bicicleta',\n",
    "    'meu carro não gosta da minha bicicleta'\n",
    "]"
   ]
  },
  {
   "cell_type": "code",
   "execution_count": 14,
   "metadata": {},
   "outputs": [
    {
     "name": "stdout",
     "output_type": "stream",
     "text": [
      "[[3, 4, 1, 2, 6], [1, 7, 1, 1, 1, 1, 6]]\n"
     ]
    }
   ],
   "source": [
    "test_seq = tokenizer.texts_to_sequences(test_data)\n",
    "print(test_seq) # palavras que não estão no word_index são ignoradas"
   ]
  },
  {
   "cell_type": "code",
   "execution_count": 15,
   "metadata": {},
   "outputs": [
    {
     "name": "stdout",
     "output_type": "stream",
     "text": [
      "[[3, 4, 1, 2, 6], [1, 7, 1, 1, 1, 1, 6]]\n"
     ]
    }
   ],
   "source": [
    "test_seq = tokenizer.texts_to_sequences(test_data)\n",
    "print(test_seq)"
   ]
  },
  {
   "cell_type": "code",
   "execution_count": null,
   "metadata": {},
   "outputs": [],
   "source": []
  }
 ],
 "metadata": {
  "kernelspec": {
   "display_name": "Python 3",
   "language": "python",
   "name": "python3"
  },
  "language_info": {
   "codemirror_mode": {
    "name": "ipython",
    "version": 3
   },
   "file_extension": ".py",
   "mimetype": "text/x-python",
   "name": "python",
   "nbconvert_exporter": "python",
   "pygments_lexer": "ipython3",
   "version": "3.11.9"
  }
 },
 "nbformat": 4,
 "nbformat_minor": 2
}
