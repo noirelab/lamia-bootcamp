{
 "cells": [
  {
   "cell_type": "code",
   "execution_count": 1,
   "metadata": {},
   "outputs": [],
   "source": [
    "import numpy as np"
   ]
  },
  {
   "cell_type": "code",
   "execution_count": 2,
   "metadata": {},
   "outputs": [],
   "source": [
    "np.random.seed(0)"
   ]
  },
  {
   "cell_type": "code",
   "execution_count": 3,
   "metadata": {},
   "outputs": [],
   "source": [
    "# formatação vertical pois facilita meu entendimento\n",
    "totais = { # total de pessoas em cada faixa etária\n",
    "        20: 0, \n",
    "        30: 0, \n",
    "        40: 0, \n",
    "        50: 0, \n",
    "        60: 0, \n",
    "        70: 0\n",
    "        }\n",
    "compras = { # total de compras em cada faixa etária\n",
    "        20:0, \n",
    "        30:0, \n",
    "        40:0, \n",
    "        50:0, \n",
    "        60:0, \n",
    "        70:0\n",
    "        }\n",
    "compras_totais = 0"
   ]
  },
  {
   "cell_type": "code",
   "execution_count": 4,
   "metadata": {},
   "outputs": [],
   "source": [
    "for i in range(100000):\n",
    "    decada = np.random.choice([20, 30, 40, 50, 60, 70]) # escolhe uma decada\n",
    "    probabilidade_compra = 0.34 # calcula a probabilidade de compra, se tem 20, tem 20% de chance de comprar E JA RESOLVE O EXERCÍCIO\n",
    "    totais[decada] += 1 # incrementa o total de pessoas em certa decada\n",
    "    \n",
    "    if np.random.rand() < probabilidade_compra: # se a probabilidade aleatória for menor que a probabilidade da pessoa comprar\n",
    "        compras_totais += 1 \n",
    "        compras[decada] += 1"
   ]
  },
  {
   "cell_type": "code",
   "execution_count": 5,
   "metadata": {},
   "outputs": [
    {
     "data": {
      "text/plain": [
       "{20: 16576, 30: 16619, 40: 16632, 50: 16805, 60: 16664, 70: 16704}"
      ]
     },
     "execution_count": 5,
     "metadata": {},
     "output_type": "execute_result"
    }
   ],
   "source": [
    "totais"
   ]
  },
  {
   "cell_type": "code",
   "execution_count": 6,
   "metadata": {},
   "outputs": [
    {
     "data": {
      "text/plain": [
       "{20: 3392, 30: 4974, 40: 6670, 50: 8319, 60: 9944, 70: 11713}"
      ]
     },
     "execution_count": 6,
     "metadata": {},
     "output_type": "execute_result"
    }
   ],
   "source": [
    "compras"
   ]
  },
  {
   "cell_type": "code",
   "execution_count": 7,
   "metadata": {},
   "outputs": [
    {
     "data": {
      "text/plain": [
       "45012"
      ]
     },
     "execution_count": 7,
     "metadata": {},
     "output_type": "execute_result"
    }
   ],
   "source": [
    "compras_totais"
   ]
  },
  {
   "cell_type": "code",
   "execution_count": 9,
   "metadata": {},
   "outputs": [
    {
     "name": "stdout",
     "output_type": "stream",
     "text": [
      "P(compra | 30s): 0.29929598652145134\n"
     ]
    }
   ],
   "source": [
    "# probabilidade condicional\n",
    "prob_cond = float(compras[30]) / totais[30] # probabilidade de comprar se tem 30 anos\n",
    "print(f'P(compra | 30s): {str(prob_cond)}')"
   ]
  },
  {
   "cell_type": "code",
   "execution_count": 10,
   "metadata": {},
   "outputs": [
    {
     "name": "stdout",
     "output_type": "stream",
     "text": [
      "P(30s): 0.16619\n"
     ]
    }
   ],
   "source": [
    "# probabilidade de ter 30 anos nesse dataset\n",
    "prob_30 = float(totais[30]) / 100000\n",
    "print(f'P(30s): {str(prob_30)}')"
   ]
  },
  {
   "cell_type": "code",
   "execution_count": 11,
   "metadata": {},
   "outputs": [
    {
     "name": "stdout",
     "output_type": "stream",
     "text": [
      "P(compra): 0.45012\n"
     ]
    }
   ],
   "source": [
    "# probabilidade geral de comprar algo sem levar em consideração a idade\n",
    "prob_compra = float(compras_totais) / 100000\n",
    "print(f'P(compra): {str(prob_compra)}')"
   ]
  }
 ],
 "metadata": {
  "kernelspec": {
   "display_name": "Python 3",
   "language": "python",
   "name": "python3"
  },
  "language_info": {
   "codemirror_mode": {
    "name": "ipython",
    "version": 3
   },
   "file_extension": ".py",
   "mimetype": "text/x-python",
   "name": "python",
   "nbconvert_exporter": "python",
   "pygments_lexer": "ipython3",
   "version": "3.12.3"
  }
 },
 "nbformat": 4,
 "nbformat_minor": 2
}
