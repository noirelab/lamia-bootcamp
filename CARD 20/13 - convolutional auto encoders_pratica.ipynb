{
 "cells": [
  {
   "cell_type": "code",
   "execution_count": 1,
   "metadata": {},
   "outputs": [],
   "source": [
    "from torchsummary import summary\n",
    "from torch_snippets import *\n",
    "from torchvision.datasets import MNIST\n",
    "from torchvision import transforms\n",
    "import torch\n",
    "import torch.nn as nn\n",
    "from torch.utils.data import DataLoader\n",
    "\n",
    "device = 'cuda' if torch.cuda.is_available() else 'cpu'\n",
    "\n",
    "img_transform = transforms.Compose([\n",
    "    transforms.ToTensor(),\n",
    "    transforms.Normalize([0.5], [0.5]),\n",
    "    transforms.Lambda(lambda x: x.to(device))\n",
    "])\n",
    "\n",
    "trn_ds = MNIST('/content/', transform = img_transform, train = True, download = True)\n",
    "val_ds = MNIST('/content/', transform = img_transform, train = False, download = True)\n",
    "\n",
    "batch_size = 128\n",
    "trn_dl = DataLoader(trn_ds, batch_size = batch_size, shuffle = True)\n",
    "val_dl = DataLoader(val_ds, batch_size = batch_size, shuffle = False)"
   ]
  },
  {
   "cell_type": "code",
   "execution_count": null,
   "metadata": {},
   "outputs": [],
   "source": []
  },
  {
   "cell_type": "code",
   "execution_count": 2,
   "metadata": {},
   "outputs": [
    {
     "name": "stdout",
     "output_type": "stream",
     "text": [
      "==========================================================================================\n",
      "Layer (type:depth-idx)                   Output Shape              Param #\n",
      "==========================================================================================\n",
      "├─Sequential: 1-1                        [-1, 64, 7, 7]            --\n",
      "|    └─Conv2d: 2-1                       [-1, 32, 28, 28]          320\n",
      "|    └─ReLU: 2-2                         [-1, 32, 28, 28]          --\n",
      "|    └─MaxPool2d: 2-3                    [-1, 32, 14, 14]          --\n",
      "|    └─Conv2d: 2-4                       [-1, 64, 14, 14]          18,496\n",
      "|    └─ReLU: 2-5                         [-1, 64, 14, 14]          --\n",
      "|    └─MaxPool2d: 2-6                    [-1, 64, 7, 7]            --\n",
      "├─Sequential: 1-2                        [-1, 1, 28, 28]           --\n",
      "|    └─ConvTranspose2d: 2-7              [-1, 32, 14, 14]          18,464\n",
      "|    └─ReLU: 2-8                         [-1, 32, 14, 14]          --\n",
      "|    └─ConvTranspose2d: 2-9              [-1, 16, 28, 28]          4,624\n",
      "|    └─ReLU: 2-10                        [-1, 16, 28, 28]          --\n",
      "|    └─ConvTranspose2d: 2-11             [-1, 1, 28, 28]           145\n",
      "|    └─Tanh: 2-12                        [-1, 1, 28, 28]           --\n",
      "==========================================================================================\n",
      "Total params: 42,049\n",
      "Trainable params: 42,049\n",
      "Non-trainable params: 0\n",
      "Total mult-adds (M): 11.22\n",
      "==========================================================================================\n",
      "Input size (MB): 0.01\n",
      "Forward/backward pass size (MB): 0.44\n",
      "Params size (MB): 0.16\n",
      "Estimated Total Size (MB): 0.60\n",
      "==========================================================================================\n"
     ]
    },
    {
     "data": {
      "text/plain": [
       "==========================================================================================\n",
       "Layer (type:depth-idx)                   Output Shape              Param #\n",
       "==========================================================================================\n",
       "├─Sequential: 1-1                        [-1, 64, 7, 7]            --\n",
       "|    └─Conv2d: 2-1                       [-1, 32, 28, 28]          320\n",
       "|    └─ReLU: 2-2                         [-1, 32, 28, 28]          --\n",
       "|    └─MaxPool2d: 2-3                    [-1, 32, 14, 14]          --\n",
       "|    └─Conv2d: 2-4                       [-1, 64, 14, 14]          18,496\n",
       "|    └─ReLU: 2-5                         [-1, 64, 14, 14]          --\n",
       "|    └─MaxPool2d: 2-6                    [-1, 64, 7, 7]            --\n",
       "├─Sequential: 1-2                        [-1, 1, 28, 28]           --\n",
       "|    └─ConvTranspose2d: 2-7              [-1, 32, 14, 14]          18,464\n",
       "|    └─ReLU: 2-8                         [-1, 32, 14, 14]          --\n",
       "|    └─ConvTranspose2d: 2-9              [-1, 16, 28, 28]          4,624\n",
       "|    └─ReLU: 2-10                        [-1, 16, 28, 28]          --\n",
       "|    └─ConvTranspose2d: 2-11             [-1, 1, 28, 28]           145\n",
       "|    └─Tanh: 2-12                        [-1, 1, 28, 28]           --\n",
       "==========================================================================================\n",
       "Total params: 42,049\n",
       "Trainable params: 42,049\n",
       "Non-trainable params: 0\n",
       "Total mult-adds (M): 11.22\n",
       "==========================================================================================\n",
       "Input size (MB): 0.01\n",
       "Forward/backward pass size (MB): 0.44\n",
       "Params size (MB): 0.16\n",
       "Estimated Total Size (MB): 0.60\n",
       "=========================================================================================="
      ]
     },
     "execution_count": 2,
     "metadata": {},
     "output_type": "execute_result"
    }
   ],
   "source": [
    "class ConvAutoEncoder(nn.Module):\n",
    "    def __init__(self, *args, **kwargs):\n",
    "        super().__init__()\n",
    "        self.encoder = nn.Sequential(\n",
    "            nn.Conv2d(1, 32, 3, stride = 1, padding = 1),\n",
    "            nn.ReLU(True),\n",
    "            nn.MaxPool2d(2, stride = 2, padding=0),\n",
    "\n",
    "            nn.Conv2d(32, 64, 3, stride = 1, padding = 1),\n",
    "            nn.ReLU(True),\n",
    "            nn.MaxPool2d(2, stride = 2, padding=0)\n",
    "        )\n",
    "\n",
    "        self.decoder = nn.Sequential(\n",
    "            nn.ConvTranspose2d(64, 32, 3, stride = 2, padding=1, output_padding=1),\n",
    "            nn.ReLU(True),\n",
    "\n",
    "            nn.ConvTranspose2d(32, 16, 3, stride = 2, padding = 1, output_padding=1),\n",
    "            nn.ReLU(True),\n",
    "\n",
    "            nn.ConvTranspose2d(16, 1, 3, stride = 1, padding = 1),\n",
    "            nn.Tanh()\n",
    "        )\n",
    "\n",
    "    def forward(self, x):\n",
    "        x = self.encoder(x)\n",
    "        x = self.decoder(x)\n",
    "        return x\n",
    "\n",
    "model = ConvAutoEncoder().to(device)\n",
    "\n",
    "summary(model, torch.zeros(2, 1, 28, 28).to(device))"
   ]
  },
  {
   "cell_type": "code",
   "execution_count": 3,
   "metadata": {},
   "outputs": [],
   "source": [
    "def train_batch(input, model, crit, opt):\n",
    "    model.train()\n",
    "    input = input.to(device)\n",
    "    opt.zero_grad()\n",
    "    output = model(input)\n",
    "    loss = crit(output, input)\n",
    "    loss.backward()\n",
    "    opt.step()\n",
    "    return loss"
   ]
  },
  {
   "cell_type": "code",
   "execution_count": 4,
   "metadata": {},
   "outputs": [],
   "source": [
    "@torch.no_grad()\n",
    "def validate_batch(input, model, crit):\n",
    "    model.eval()\n",
    "    output = model(input)\n",
    "    loss = crit(output, input)\n",
    "    return loss"
   ]
  },
  {
   "cell_type": "code",
   "execution_count": 5,
   "metadata": {},
   "outputs": [],
   "source": [
    "model = ConvAutoEncoder().to(device)\n",
    "crit = nn.MSELoss()\n",
    "opt = torch.optim.Adam(model.parameters(), lr = 1e-3, weight_decay=1e-5)"
   ]
  },
  {
   "cell_type": "code",
   "execution_count": 6,
   "metadata": {},
   "outputs": [
    {
     "data": {
      "image/png": "[encoded data removed]",
      "text/plain": [
       "<Figure size 640x480 with 1 Axes>"
      ]
     },
     "metadata": {},
     "output_type": "display_data"
    }
   ],
   "source": [
    "import matplotlib.pyplot as plt\n",
    "%matplotlib inline\n",
    "\n",
    "epochs = 5\n",
    "\n",
    "# novo método pra guardar os valores pois o Report nao funciona\n",
    "train_losses = []\n",
    "val_losses = []\n",
    "\n",
    "# esse loop roda o modelo e plota os gráficos\n",
    "for epoch in range(epochs):\n",
    "    model.train()\n",
    "    epoch_train_loss = 0\n",
    "\n",
    "    # treinamento\n",
    "    for ix, (data, _) in enumerate(trn_ds):\n",
    "        loss = train_batch(data, model, crit, opt)\n",
    "        epoch_train_loss += loss.item()\n",
    "\n",
    "    avg_train_loss = epoch_train_loss / len(trn_ds)\n",
    "    train_losses.append(avg_train_loss)\n",
    "\n",
    "    model.eval()\n",
    "    epoch_val_loss = 0\n",
    "\n",
    "    # validação\n",
    "    with torch.no_grad(): # nao precisa do gradiente\n",
    "        for ix, (data, _) in enumerate(val_ds):\n",
    "            data = data.to(device)  # Envia os dados para o dispositivo correto\n",
    "            output = model(data)  # Passa os dados pelo modelo\n",
    "            loss = crit(output, data)  # Calcula a perda\n",
    "            epoch_val_loss += loss.item()\n",
    "\n",
    "    avg_val_loss = epoch_val_loss / len(val_ds)\n",
    "    val_losses.append(avg_val_loss)\n",
    "\n",
    "plt.plot(train_losses, label = 'train')\n",
    "plt.plot(val_losses, label = 'val')\n",
    "plt.xlabel('Epochs')\n",
    "plt.ylabel('Loss')\n",
    "plt.legend()\n",
    "plt.show()"
   ]
  },
  {
   "cell_type": "code",
   "execution_count": null,
   "metadata": {},
   "outputs": [],
   "source": []
  }
 ],
 "metadata": {
  "kernelspec": {
   "display_name": "Python 3",
   "language": "python",
   "name": "python3"
  },
  "language_info": {
   "codemirror_mode": {
    "name": "ipython",
    "version": 3
   },
   "file_extension": ".py",
   "mimetype": "text/x-python",
   "name": "python",
   "nbconvert_exporter": "python",
   "pygments_lexer": "ipython3",
   "version": "3.12.3"
  }
 },
 "nbformat": 4,
 "nbformat_minor": 2
}
