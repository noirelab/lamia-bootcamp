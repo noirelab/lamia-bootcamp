{
 "cells": [
  {
   "cell_type": "code",
   "execution_count": 30,
   "metadata": {},
   "outputs": [],
   "source": [
    "from torchvision import datasets\n",
    "import torch\n",
    "data_folder = 'CARD 20'\n",
    "fmnist = datasets.FashionMNIST(data_folder, download=True, train=True)\n",
    "tr_images = fmnist.data\n",
    "tr_targets = fmnist.targets"
   ]
  },
  {
   "cell_type": "code",
   "execution_count": 31,
   "metadata": {},
   "outputs": [],
   "source": [
    "val_fmnist = datasets.FashionMNIST(data_folder, download=True, train=False)\n",
    "val_images = val_fmnist.data\n",
    "val_targets = val_fmnist.targets"
   ]
  },
  {
   "cell_type": "code",
   "execution_count": 32,
   "metadata": {},
   "outputs": [],
   "source": [
    "import matplotlib.pyplot as plt\n",
    "%matplotlib inline\n",
    "import numpy as np\n",
    "from torch.utils.data import Dataset, DataLoader\n",
    "import torch\n",
    "import torch.nn as nn\n",
    "from torch.optim import SGD, Adam\n",
    "device = 'cuda' if torch.cuda.is_available() else 'cpu'"
   ]
  },
  {
   "cell_type": "code",
   "execution_count": 33,
   "metadata": {},
   "outputs": [],
   "source": [
    "# modelo com duas camadas\n",
    "class FMNISTDataset(Dataset):\n",
    "    def __init__(self, x, y):\n",
    "        x = x.float()\n",
    "        x = x.view(-1, 28*28)/255\n",
    "        self.x, self.y = x.to(device), y.to(device)\n",
    "\n",
    "    def __getitem__(self, ix):\n",
    "        x = self.x[ix]\n",
    "        y = self.y[ix]\n",
    "        return x.to(device), y.to(device)\n",
    "\n",
    "    # tive que adicionar a função len pois não estava funcionando, e ai percebi que não olhei direito\n",
    "    def __len__(self):\n",
    "        return len(self.x)"
   ]
  },
  {
   "cell_type": "code",
   "execution_count": 34,
   "metadata": {},
   "outputs": [],
   "source": [
    "def get_model():\n",
    "    model = nn.Sequential(\n",
    "        nn.Linear(28*28, 1000), # 28*28 conectado a 1000 neuronios\n",
    "        nn.ReLU(),\n",
    "        nn.Linear(1000, 100), # 1000 neuronios também conectado a 100\n",
    "        nn.ReLU(),\n",
    "        nn.Linear(1000, 10) # 1000 conectado a 10\n",
    "    ).to(device)\n",
    "\n",
    "    loss_fn = nn.CrossEntropyLoss()\n",
    "    optimizer = Adam(model.parameters(), lr=1e-3)\n",
    "    return model, loss_fn, optimizer"
   ]
  },
  {
   "cell_type": "code",
   "execution_count": 35,
   "metadata": {},
   "outputs": [],
   "source": [
    "# função de treino\n",
    "def train_batch(x, y, model, opt, loss_fn):\n",
    "    model.train()\n",
    "    prediction = model(x)\n",
    "    batch_loss = loss_fn(prediction, y)\n",
    "    batch_loss.backward()\n",
    "    opt.step()\n",
    "    opt.zero_grad()\n",
    "    return batch_loss.item()\n",
    "\n",
    "# função de validação do modelo\n",
    "def accuracy(x, y, model):\n",
    "    model.eval()\n",
    "\n",
    "    with torch.no_grad():\n",
    "        prediction = model(x)\n",
    "\n",
    "    max_values, argmaxes = prediction.max(-1)  # obtém as classes previstas\n",
    "    is_correct = argmaxes == y  # verifica se a previsão está correta\n",
    "    return is_correct.cpu().numpy().tolist()  # retorna a lista de acertos\n"
   ]
  },
  {
   "cell_type": "code",
   "execution_count": 36,
   "metadata": {},
   "outputs": [],
   "source": [
    "@torch.no_grad()\n",
    "def val_loss(x, y, model):\n",
    "    model.eval()\n",
    "    prediction = model(x)\n",
    "    val_loss = loss_fn(prediction, y)\n",
    "    return val_loss.item()"
   ]
  },
  {
   "cell_type": "code",
   "execution_count": 37,
   "metadata": {},
   "outputs": [],
   "source": [
    "def get_data():\n",
    "    train = FMNISTDataset(tr_images, tr_targets)\n",
    "    trn_dl = DataLoader(train, batch_size=32, shuffle=True)\n",
    "\n",
    "    val = FMNISTDataset(val_images, val_targets)\n",
    "    val_dl = DataLoader(val, batch_size=len(val_images), shuffle=False)\n",
    "    return trn_dl, val_dl"
   ]
  },
  {
   "cell_type": "code",
   "execution_count": 38,
   "metadata": {},
   "outputs": [],
   "source": [
    "trn_dl, val_dl = get_data()\n",
    "model, loss_fn, optimizer = get_model()"
   ]
  },
  {
   "cell_type": "code",
   "execution_count": null,
   "metadata": {},
   "outputs": [],
   "source": [
    "train_losses, train_accuracies = [], []\n",
    "val_losses, val_accuracies = [], []\n",
    "\n",
    "for epoch in range(5):\n",
    "    print(f'epoch atual: {epoch}')\n",
    "\n",
    "    train_epoch_losses, train_epoch_accuracies = [], []\n",
    "\n",
    "    # loop pelos batches do conjunto de treino\n",
    "    for ix, batch in enumerate(iter(trn_dl)):\n",
    "        x, y = batch\n",
    "        batch_loss = train_batch(x, y, model, optimizer, loss_fn)\n",
    "        train_epoch_losses.append(batch_loss) # armazena a perda do batch\n",
    "\n",
    "    train_epoch_loss = np.array(train_epoch_losses).mean() # média da perda da época atual\n",
    "\n",
    "    for ix, batch in enumerate(iter(trn_dl)):\n",
    "        x, y = batch\n",
    "        val_is_correct = accuracy(x, y, model) # calcula a precisao\n",
    "        validation_loss = val_loss(x, y, model) # calcula a perda de validação\n",
    "\n",
    "    # média da precisão de validação\n",
    "    val_epoch_accuracy = np.mean(val_is_correct)\n",
    "\n",
    "    # adiciona a perda no treinamento na lista\n",
    "    train_losses.append(train_epoch_loss)\n",
    "\n",
    "    # adiciona a precisão de treino na lista\n",
    "    train_accuracies.append(train_epoch_accuracies)\n",
    "\n",
    "    # adiciona a perda de validação na lista\n",
    "    val_losses.append(validation_loss)\n",
    "\n",
    "    # adiciona a precisão de validação na lista\n",
    "    val_accuracies.append(val_epoch_accuracy)"
   ]
  }
 ],
 "metadata": {
  "kernelspec": {
   "display_name": "Python 3",
   "language": "python",
   "name": "python3"
  },
  "language_info": {
   "codemirror_mode": {
    "name": "ipython",
    "version": 3
   },
   "file_extension": ".py",
   "mimetype": "text/x-python",
   "name": "python",
   "nbconvert_exporter": "python",
   "pygments_lexer": "ipython3",
   "version": "3.12.3"
  }
 },
 "nbformat": 4,
 "nbformat_minor": 2
}
