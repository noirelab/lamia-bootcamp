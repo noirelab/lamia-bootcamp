{
 "cells": [
  {
   "cell_type": "code",
   "execution_count": 1,
   "metadata": {},
   "outputs": [],
   "source": [
    "import torch"
   ]
  },
  {
   "cell_type": "code",
   "execution_count": 3,
   "metadata": {},
   "outputs": [
    {
     "name": "stdout",
     "output_type": "stream",
     "text": [
      "torch.Size([2, 4])\n"
     ]
    }
   ],
   "source": [
    "x = torch.tensor([[1, 2, 3 ,4], [5, 6, 7, 8]])\n",
    "print(x.shape)"
   ]
  },
  {
   "cell_type": "code",
   "execution_count": 4,
   "metadata": {},
   "outputs": [
    {
     "data": {
      "text/plain": [
       "tensor([[10, 20, 30, 40],\n",
       "        [50, 60, 70, 80]])"
      ]
     },
     "execution_count": 4,
     "metadata": {},
     "output_type": "execute_result"
    }
   ],
   "source": [
    "# multiplicação\n",
    "x*10"
   ]
  },
  {
   "cell_type": "code",
   "execution_count": 5,
   "metadata": {},
   "outputs": [
    {
     "data": {
      "text/plain": [
       "tensor([[11, 12, 13, 14],\n",
       "        [15, 16, 17, 18]])"
      ]
     },
     "execution_count": 5,
     "metadata": {},
     "output_type": "execute_result"
    }
   ],
   "source": [
    "# soma\n",
    "x.add(10)"
   ]
  },
  {
   "cell_type": "code",
   "execution_count": 9,
   "metadata": {},
   "outputs": [
    {
     "name": "stdout",
     "output_type": "stream",
     "text": [
      "torch.Size([2, 4])\n"
     ]
    },
    {
     "data": {
      "text/plain": [
       "tensor([[1, 2, 3, 4, 5, 6, 7, 8]])"
      ]
     },
     "execution_count": 9,
     "metadata": {},
     "output_type": "execute_result"
    }
   ],
   "source": [
    "# reshape\n",
    "print(x.shape)\n",
    "x.view(1, 8)"
   ]
  },
  {
   "cell_type": "code",
   "execution_count": 11,
   "metadata": {},
   "outputs": [
    {
     "data": {
      "text/plain": [
       "tensor([[[1., 1., 1., 1., 1., 1., 1., 1., 1., 1.]],\n",
       "\n",
       "        [[1., 1., 1., 1., 1., 1., 1., 1., 1., 1.]]])"
      ]
     },
     "execution_count": 11,
     "metadata": {},
     "output_type": "execute_result"
    }
   ],
   "source": [
    "# squeeze\n",
    "# tensor com 2 pilhas contendo uma linha e 10 colunas\n",
    "a = torch.ones(2, 1, 10)\n",
    "a"
   ]
  },
  {
   "cell_type": "code",
   "execution_count": 12,
   "metadata": {},
   "outputs": [
    {
     "name": "stdout",
     "output_type": "stream",
     "text": [
      "shape pre squeeze: torch.Size([2, 1, 10])\n",
      "shape pos squeeze: torch.Size([2, 10])\n"
     ]
    }
   ],
   "source": [
    "# tira o primeiro index do eixo que tinha penas um tamanho\n",
    "print(f'shape pre squeeze: {a.shape}')\n",
    "a_squeeze = a.squeeze()\n",
    "print(f'shape pos squeeze: {a_squeeze.shape}')"
   ]
  },
  {
   "cell_type": "code",
   "execution_count": 13,
   "metadata": {},
   "outputs": [
    {
     "name": "stdout",
     "output_type": "stream",
     "text": [
      "shape pre squeeze: torch.Size([2, 2, 10])\n",
      "shape pos squeeze: torch.Size([2, 2, 10])\n"
     ]
    }
   ],
   "source": [
    "# como a posição 1 tem tamanho 2, não é possível fazer o squeeze\n",
    "a = torch.ones(2, 2, 10)\n",
    "print(f'shape pre squeeze: {a.shape}')\n",
    "a_squeeze = a.squeeze(1)\n",
    "print(f'shape pos squeeze: {a_squeeze.shape}')"
   ]
  },
  {
   "cell_type": "code",
   "execution_count": 14,
   "metadata": {},
   "outputs": [
    {
     "name": "stdout",
     "output_type": "stream",
     "text": [
      "shape pre squeeze: torch.Size([2, 3, 1])\n",
      "shape pos squeeze: torch.Size([2, 3])\n"
     ]
    }
   ],
   "source": [
    "# a posição 2 tem tamanho 1, por isso é possível\n",
    "a = torch.ones(2, 3, 1)\n",
    "print(f'shape pre squeeze: {a.shape}')\n",
    "a_squeeze = a.squeeze(2)\n",
    "print(f'shape pos squeeze: {a_squeeze.shape}')"
   ]
  },
  {
   "cell_type": "code",
   "execution_count": 15,
   "metadata": {},
   "outputs": [
    {
     "name": "stdout",
     "output_type": "stream",
     "text": [
      "shape pre unsqueeze: torch.Size([2, 3])\n",
      "shape pos unsqueeze: torch.Size([2, 3, 1])\n"
     ]
    }
   ],
   "source": [
    "# unsqueeze\n",
    "# oposto do squeeze, adiciona uma dimensão na posição especificada\n",
    "a = torch.ones(2, 3)\n",
    "print(f'shape pre unsqueeze: {a.shape}')\n",
    "a_unsqueeze = a.unsqueeze(2)\n",
    "print(f'shape pos unsqueeze: {a_unsqueeze.shape}')"
   ]
  },
  {
   "cell_type": "code",
   "execution_count": 16,
   "metadata": {},
   "outputs": [
    {
     "name": "stdout",
     "output_type": "stream",
     "text": [
      "torch.Size([1, 2, 3])\n",
      "torch.Size([2, 1, 3])\n",
      "torch.Size([2, 3, 1])\n"
     ]
    }
   ],
   "source": [
    "# indexando o [None]\n",
    "a = torch.ones(2, 3)\n",
    "\n",
    "print(a[None].shape)        # cria um axis falso no index 0\n",
    "print(a[:, None].shape)     # cria um axis falso no index 1\n",
    "print(a[:, :, None].shape)  # cria um axis falso no index"
   ]
  },
  {
   "cell_type": "code",
   "execution_count": 19,
   "metadata": {},
   "outputs": [],
   "source": [
    "# multiplicação de matrizes\n",
    "x = torch.tensor([\n",
    "    [1, 2, 3, 4],\n",
    "    [5, 6, 7, 8]])\n",
    "y = torch.tensor([\n",
    "    [1, 2, 3],\n",
    "    [4, 5, 6],\n",
    "    [7, 8, 9],\n",
    "    [10, 11, 12]\n",
    "])"
   ]
  },
  {
   "cell_type": "code",
   "execution_count": 20,
   "metadata": {},
   "outputs": [
    {
     "data": {
      "text/plain": [
       "tensor([[ 70,  80,  90],\n",
       "        [158, 184, 210]])"
      ]
     },
     "execution_count": 20,
     "metadata": {},
     "output_type": "execute_result"
    }
   ],
   "source": [
    "torch.matmul(x, y)"
   ]
  },
  {
   "cell_type": "code",
   "execution_count": 29,
   "metadata": {},
   "outputs": [
    {
     "name": "stdout",
     "output_type": "stream",
     "text": [
      "axis 1 concatenado: torch.Size([1, 4, 5]) torch.Size([1, 8, 5])\n"
     ]
    }
   ],
   "source": [
    "# concatenação\n",
    "x = torch.randn(1, 4, 5)\n",
    "z = torch.cat([x, x], axis = 1)\n",
    "print('axis 1 concatenado:', x.shape, z.shape)  # 1, 8, 5"
   ]
  },
  {
   "cell_type": "code",
   "execution_count": 32,
   "metadata": {},
   "outputs": [
    {
     "name": "stdout",
     "output_type": "stream",
     "text": [
      "permutação: torch.Size([3, 20, 10]) torch.Size([10, 3, 20])\n"
     ]
    }
   ],
   "source": [
    "# permutação\n",
    "x = torch.randn(3, 20, 10)\n",
    "z = x.permute(2, 0, 1)\n",
    "print('permutação:', x.shape, z.shape)  # 10, 3, 20"
   ]
  },
  {
   "cell_type": "code",
   "execution_count": null,
   "metadata": {},
   "outputs": [],
   "source": []
  }
 ],
 "metadata": {
  "kernelspec": {
   "display_name": "Python 3",
   "language": "python",
   "name": "python3"
  },
  "language_info": {
   "codemirror_mode": {
    "name": "ipython",
    "version": 3
   },
   "file_extension": ".py",
   "mimetype": "text/x-python",
   "name": "python",
   "nbconvert_exporter": "python",
   "pygments_lexer": "ipython3",
   "version": "3.12.3"
  }
 },
 "nbformat": 4,
 "nbformat_minor": 2
}
