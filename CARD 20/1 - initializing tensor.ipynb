{
 "cells": [
  {
   "cell_type": "code",
   "execution_count": 1,
   "metadata": {},
   "outputs": [],
   "source": [
    "import torch\n",
    "import plotly.graph_objs as go\n",
    "import plotly.offline as pyo"
   ]
  },
  {
   "cell_type": "code",
   "execution_count": 2,
   "metadata": {},
   "outputs": [
    {
     "data": {
      "text/plain": [
       "torch.Size([2])"
      ]
     },
     "execution_count": 2,
     "metadata": {},
     "output_type": "execute_result"
    }
   ],
   "source": [
    "# como criar um objeto tensor\n",
    "# array 1d\n",
    "\n",
    "sample = torch.tensor([10, 11])\n",
    "sample.shape"
   ]
  },
  {
   "cell_type": "code",
   "execution_count": 3,
   "metadata": {},
   "outputs": [
    {
     "name": "stdout",
     "output_type": "stream",
     "text": [
      "torch.Size([2, 2])\n",
      "torch.Size([2, 1])\n"
     ]
    }
   ],
   "source": [
    "# array 2d\n",
    "# é aberto outro [] para conter ambas dimensões\n",
    "sample2d = torch.tensor([[10, 11], [12, 13]])\n",
    "print(sample2d.shape)\n",
    "#   [10, 11]\n",
    "#   [1, 2]\n",
    "\n",
    "\n",
    "sample2d_unico = torch.tensor([[10], [11]])\n",
    "print(sample2d_unico.shape)\n",
    "#   [10]\n",
    "#   [11]"
   ]
  },
  {
   "cell_type": "code",
   "execution_count": 6,
   "metadata": {},
   "outputs": [
    {
     "data": {
      "text/plain": [
       "'tensor.html'"
      ]
     },
     "execution_count": 6,
     "metadata": {},
     "output_type": "execute_result"
    }
   ],
   "source": [
    "# visualização de uma array 3d\n",
    "# tensor 3d\n",
    "a = torch.tensor([[[1, 2], [3, 4]], [[5, 6], [7, 8]]])\n",
    "\n",
    "# cria uma list com todos os xyz\n",
    "x_values = []\n",
    "y_values = []\n",
    "z_values = []\n",
    "\n",
    "for i in range(a.shape[0]):\n",
    "    for j in range(a.shape[1]):\n",
    "        for k in range(a.shape[2]):\n",
    "            x_values.append(i)\n",
    "            y_values.append(j)\n",
    "            z_values.append(k)\n",
    "\n",
    "# cria um plotly 3d scatter plot\n",
    "trace = go.Scatter3d(\n",
    "    x=x_values,\n",
    "    y=y_values,\n",
    "    z=z_values,\n",
    "    mode='markers',\n",
    "    marker=dict(\n",
    "        size=5,\n",
    "        color=a.flatten(),\n",
    "        colorscale='Viridis',\n",
    "        opacity=0.8\n",
    "        )\n",
    ")\n",
    "\n",
    "# cria o layout do plot\n",
    "layout = go.Layout(\n",
    "    margin=dict(l=0, r=0, t=0, b=0),\n",
    "    scene=dict(\n",
    "        xaxis=dict(title='X'),\n",
    "        yaxis=dict(title='Y'),\n",
    "        zaxis=dict(title='Z')\n",
    "    )\n",
    ")\n",
    "\n",
    "# combina o trace e o layout\n",
    "fig = go.Figure(data=[trace], layout=layout)\n",
    "pyo.plot(fig, filename='tensor.html')"
   ]
  },
  {
   "cell_type": "code",
   "execution_count": null,
   "metadata": {},
   "outputs": [],
   "source": []
  }
 ],
 "metadata": {
  "kernelspec": {
   "display_name": "Python 3",
   "language": "python",
   "name": "python3"
  },
  "language_info": {
   "codemirror_mode": {
    "name": "ipython",
    "version": 3
   },
   "file_extension": ".py",
   "mimetype": "text/x-python",
   "name": "python",
   "nbconvert_exporter": "python",
   "pygments_lexer": "ipython3",
   "version": "3.12.3"
  }
 },
 "nbformat": 4,
 "nbformat_minor": 2
}
